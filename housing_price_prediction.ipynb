{
 "cells": [
  {
   "cell_type": "markdown",
   "id": "166f8434",
   "metadata": {},
   "source": [
    "# Housing Price Prediction: King County Dataset 🏡\n",
    "\n",
    "This project was completed as part of a Data Analysis course on Coursera. The goal is to predict housing prices using various features such as square footage, number of bedrooms, number of floors, etc.\n",
    "\n",
    "The dataset contains housing sale prices for King County, including Seattle. It includes homes sold between May 2014 and May 2015.\n",
    "\n",
    "## Tools Used\n",
    "- Python\n",
    "- Pandas, NumPy\n",
    "- Seaborn, Matplotlib\n",
    "- Scikit-learn\n",
    "\n",
    "---\n"
   ]
  },
  {
   "cell_type": "markdown",
   "id": "9eee51a8",
   "metadata": {},
   "source": [
    "### Question 1\n",
    "Display the data types of each column."
   ]
  },
  {
   "cell_type": "code",
   "execution_count": null,
   "id": "1becf39a",
   "metadata": {},
   "outputs": [],
   "source": [
    "df.dtypes"
   ]
  },
  {
   "cell_type": "markdown",
   "id": "101dcacf",
   "metadata": {},
   "source": [
    "### Question 2\n",
    "Drop 'id' and 'Unnamed: 0', then display statistics."
   ]
  },
  {
   "cell_type": "code",
   "execution_count": null,
   "id": "642be02d",
   "metadata": {},
   "outputs": [],
   "source": [
    "df.drop([\"id\", \"Unnamed: 0\"], axis=1, inplace=True)\n",
    "df.describe()"
   ]
  },
  {
   "cell_type": "markdown",
   "id": "50e2a7e0",
   "metadata": {},
   "source": [
    "### Question 3\n",
    "Count the number of houses with unique floor values."
   ]
  },
  {
   "cell_type": "code",
   "execution_count": null,
   "id": "13808f9f",
   "metadata": {},
   "outputs": [],
   "source": [
    "df['floors'].value_counts().to_frame()"
   ]
  },
  {
   "cell_type": "markdown",
   "id": "c5c3a677",
   "metadata": {},
   "source": [
    "### Question 4\n",
    "Boxplot for price vs. waterfront."
   ]
  },
  {
   "cell_type": "code",
   "execution_count": null,
   "id": "f3eae288",
   "metadata": {},
   "outputs": [],
   "source": [
    "import seaborn as sns\n",
    "sns.boxplot(x='waterfront', y='price', data=df)"
   ]
  },
  {
   "cell_type": "markdown",
   "id": "16c856a0",
   "metadata": {},
   "source": [
    "### Question 5\n",
    "Regplot: sqft_above vs. price."
   ]
  },
  {
   "cell_type": "code",
   "execution_count": null,
   "id": "95f0d99b",
   "metadata": {},
   "outputs": [],
   "source": [
    "sns.regplot(x='sqft_above', y='price', data=df)"
   ]
  },
  {
   "cell_type": "markdown",
   "id": "369277a7",
   "metadata": {},
   "source": [
    "### Question 6\n",
    "Linear Regression: sqft_living vs. price."
   ]
  },
  {
   "cell_type": "code",
   "execution_count": null,
   "id": "3f528576",
   "metadata": {},
   "outputs": [],
   "source": [
    "from sklearn.linear_model import LinearRegression\n",
    "X = df[['sqft_living']]\n",
    "y = df['price']\n",
    "model = LinearRegression()\n",
    "model.fit(X, y)\n",
    "model.score(X, y)"
   ]
  },
  {
   "cell_type": "markdown",
   "id": "74d35077",
   "metadata": {},
   "source": [
    "### Question 7\n",
    "Linear Regression with multiple features."
   ]
  },
  {
   "cell_type": "code",
   "execution_count": null,
   "id": "7fd359b5",
   "metadata": {},
   "outputs": [],
   "source": [
    "features = [\"floors\", \"waterfront\", \"lat\", \"bedrooms\", \"sqft_basement\", \"view\", \"bathrooms\", \"sqft_living15\", \"sqft_above\", \"grade\", \"sqft_living\"]\n",
    "from sklearn.impute import SimpleImputer\n",
    "X = SimpleImputer(strategy='mean').fit_transform(df[features])\n",
    "y = df['price']\n",
    "model = LinearRegression()\n",
    "model.fit(X, y)\n",
    "model.score(X, y)"
   ]
  },
  {
   "cell_type": "markdown",
   "id": "68c97847",
   "metadata": {},
   "source": [
    "### Question 8\n",
    "Pipeline with polynomial features and regression."
   ]
  },
  {
   "cell_type": "code",
   "execution_count": null,
   "id": "2c230cb2",
   "metadata": {},
   "outputs": [],
   "source": [
    "from sklearn.pipeline import Pipeline\n",
    "from sklearn.preprocessing import StandardScaler, PolynomialFeatures\n",
    "pipeline = Pipeline([\n",
    "    ('imputer', SimpleImputer(strategy='mean')),\n",
    "    ('scale', StandardScaler()),\n",
    "    ('polynomial', PolynomialFeatures(include_bias=False)),\n",
    "    ('model', LinearRegression())\n",
    "])\n",
    "X = df[features]\n",
    "y = df['price']\n",
    "pipeline.fit(X, y)\n",
    "pipeline.score(X, y)"
   ]
  },
  {
   "cell_type": "markdown",
   "id": "8a3cd6f5",
   "metadata": {},
   "source": [
    "### Question 9\n",
    "Ridge Regression (alpha=0.1) with test set."
   ]
  },
  {
   "cell_type": "code",
   "execution_count": null,
   "id": "f226af4c",
   "metadata": {},
   "outputs": [],
   "source": [
    "from sklearn.model_selection import train_test_split\n",
    "from sklearn.linear_model import Ridge\n",
    "X = df[features]\n",
    "y = df['price']\n",
    "x_train, x_test, y_train, y_test = train_test_split(X, y, test_size=0.15, random_state=1)\n",
    "x_train = SimpleImputer(strategy='mean').fit_transform(x_train)\n",
    "x_test = SimpleImputer(strategy='mean').transform(x_test)\n",
    "ridge = Ridge(alpha=0.1)\n",
    "ridge.fit(x_train, y_train)\n",
    "ridge.score(x_test, y_test)"
   ]
  },
  {
   "cell_type": "markdown",
   "id": "9430566d",
   "metadata": {},
   "source": [
    "### Question 10\n",
    "Polynomial Ridge Regression (degree=2, alpha=0.1)."
   ]
  },
  {
   "cell_type": "code",
   "execution_count": null,
   "id": "b9daba36",
   "metadata": {},
   "outputs": [],
   "source": [
    "from sklearn.preprocessing import PolynomialFeatures\n",
    "poly = PolynomialFeatures(degree=2)\n",
    "x_train_poly = poly.fit_transform(x_train)\n",
    "x_test_poly = poly.transform(x_test)\n",
    "ridge_poly = Ridge(alpha=0.1)\n",
    "ridge_poly.fit(x_train_poly, y_train)\n",
    "ridge_poly.score(x_test_poly, y_test)"
   ]
  }
 ],
 "metadata": {},
 "nbformat": 4,
 "nbformat_minor": 5
}
